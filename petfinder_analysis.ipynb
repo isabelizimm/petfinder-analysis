{
 "cells": [
  {
   "cell_type": "markdown",
   "id": "082596ae-bcdd-4498-8c08-b130ee5e1510",
   "metadata": {},
   "source": [
    "## What does the most \"normal\" rescue dog look like?\n",
    "\n",
    "During the beginning of COVID-19, many locked-down milennials and gen-z-ers found their homes getting 4 feet (erm, paws) bigger. While the homes welcomed all shapes and sizes of new furry friends, what does the most normal rescue dog look like?\n",
    "\n",
    "We'll start by importing a scraped list of dogs on the popular [petfinder.com](petfinder.com), a top site for animals in need of a home. "
   ]
  },
  {
   "cell_type": "markdown",
   "id": "9f2cc575",
   "metadata": {},
   "source": [
    "## Perform data prep and cleaning"
   ]
  },
  {
   "cell_type": "code",
   "execution_count": 1,
   "id": "7fa27d35-5787-4acf-9b08-b836af0b54e8",
   "metadata": {},
   "outputs": [],
   "source": [
    "import pandas as pd\n",
    "import matplotlib.pyplot as plt\n",
    "import re\n",
    "import numpy as np\n",
    "from string import punctuation\n",
    "import markovify"
   ]
  },
  {
   "cell_type": "code",
   "execution_count": 2,
   "id": "0a661a34-811f-44b7-8588-ae9c531d9e30",
   "metadata": {},
   "outputs": [],
   "source": [
    "url = \"https://raw.githubusercontent.com/rfordatascience/tidytuesday/master/data/2019/2019-12-17/dog_descriptions.csv\"\n",
    "data = pd.read_csv(url)"
   ]
  },
  {
   "cell_type": "markdown",
   "id": "abf18dd8-baf7-4580-8708-0b3a9b6aec47",
   "metadata": {},
   "source": [
    "Let's check out the data first."
   ]
  },
  {
   "cell_type": "code",
   "execution_count": 3,
   "id": "8138ac9b-5830-4130-93a9-1322c143305e",
   "metadata": {},
   "outputs": [
    {
     "data": {
      "text/plain": [
       "Index(['id', 'org_id', 'url', 'species', 'breed_primary', 'breed_secondary',\n",
       "       'breed_mixed', 'breed_unknown', 'color_primary', 'color_secondary',\n",
       "       'color_tertiary', 'age', 'sex', 'size', 'coat', 'fixed',\n",
       "       'house_trained', 'declawed', 'special_needs', 'shots_current',\n",
       "       'env_children', 'env_dogs', 'env_cats', 'name', 'tags', 'photo',\n",
       "       'status', 'posted', 'contact_city', 'contact_state', 'contact_zip',\n",
       "       'contact_country', 'stateQ', 'accessed', 'type', 'description'],\n",
       "      dtype='object')"
      ]
     },
     "execution_count": 3,
     "metadata": {},
     "output_type": "execute_result"
    }
   ],
   "source": [
    "# get column names\n",
    "data.columns"
   ]
  },
  {
   "cell_type": "code",
   "execution_count": 4,
   "id": "07ed5ec2",
   "metadata": {},
   "outputs": [
    {
     "data": {
      "text/html": [
       "<div>\n",
       "<style scoped>\n",
       "    .dataframe tbody tr th:only-of-type {\n",
       "        vertical-align: middle;\n",
       "    }\n",
       "\n",
       "    .dataframe tbody tr th {\n",
       "        vertical-align: top;\n",
       "    }\n",
       "\n",
       "    .dataframe thead th {\n",
       "        text-align: right;\n",
       "    }\n",
       "</style>\n",
       "<table border=\"1\" class=\"dataframe\">\n",
       "  <thead>\n",
       "    <tr style=\"text-align: right;\">\n",
       "      <th></th>\n",
       "      <th>id</th>\n",
       "      <th>declawed</th>\n",
       "    </tr>\n",
       "  </thead>\n",
       "  <tbody>\n",
       "    <tr>\n",
       "      <th>count</th>\n",
       "      <td>5.818000e+04</td>\n",
       "      <td>0.0</td>\n",
       "    </tr>\n",
       "    <tr>\n",
       "      <th>mean</th>\n",
       "      <td>4.425148e+07</td>\n",
       "      <td>NaN</td>\n",
       "    </tr>\n",
       "    <tr>\n",
       "      <th>std</th>\n",
       "      <td>3.818970e+06</td>\n",
       "      <td>NaN</td>\n",
       "    </tr>\n",
       "    <tr>\n",
       "      <th>min</th>\n",
       "      <td>6.041150e+05</td>\n",
       "      <td>NaN</td>\n",
       "    </tr>\n",
       "    <tr>\n",
       "      <th>25%</th>\n",
       "      <td>4.451688e+07</td>\n",
       "      <td>NaN</td>\n",
       "    </tr>\n",
       "    <tr>\n",
       "      <th>50%</th>\n",
       "      <td>4.559662e+07</td>\n",
       "      <td>NaN</td>\n",
       "    </tr>\n",
       "    <tr>\n",
       "      <th>75%</th>\n",
       "      <td>4.591667e+07</td>\n",
       "      <td>NaN</td>\n",
       "    </tr>\n",
       "    <tr>\n",
       "      <th>max</th>\n",
       "      <td>4.604315e+07</td>\n",
       "      <td>NaN</td>\n",
       "    </tr>\n",
       "  </tbody>\n",
       "</table>\n",
       "</div>"
      ],
      "text/plain": [
       "                 id  declawed\n",
       "count  5.818000e+04       0.0\n",
       "mean   4.425148e+07       NaN\n",
       "std    3.818970e+06       NaN\n",
       "min    6.041150e+05       NaN\n",
       "25%    4.451688e+07       NaN\n",
       "50%    4.559662e+07       NaN\n",
       "75%    4.591667e+07       NaN\n",
       "max    4.604315e+07       NaN"
      ]
     },
     "execution_count": 4,
     "metadata": {},
     "output_type": "execute_result"
    }
   ],
   "source": [
    "# get statisitical properties of numeric variables\n",
    "data.describe()"
   ]
  },
  {
   "cell_type": "markdown",
   "id": "e6371f59",
   "metadata": {},
   "source": [
    "There are not many numeric statistics here, so we will have to take that into account when diving into the data."
   ]
  },
  {
   "cell_type": "code",
   "execution_count": 5,
   "id": "9abbd9c2",
   "metadata": {},
   "outputs": [
    {
     "name": "stdout",
     "output_type": "stream",
     "text": [
      "<class 'pandas.core.frame.DataFrame'>\n",
      "RangeIndex: 58180 entries, 0 to 58179\n",
      "Data columns (total 36 columns):\n",
      " #   Column           Non-Null Count  Dtype  \n",
      "---  ------           --------------  -----  \n",
      " 0   id               58180 non-null  int64  \n",
      " 1   org_id           58180 non-null  object \n",
      " 2   url              58180 non-null  object \n",
      " 3   species          58180 non-null  object \n",
      " 4   breed_primary    58180 non-null  object \n",
      " 5   breed_secondary  20821 non-null  object \n",
      " 6   breed_mixed      58180 non-null  bool   \n",
      " 7   breed_unknown    58180 non-null  bool   \n",
      " 8   color_primary    26134 non-null  object \n",
      " 9   color_secondary  12059 non-null  object \n",
      " 10  color_tertiary   1217 non-null   object \n",
      " 11  age              58180 non-null  object \n",
      " 12  sex              58180 non-null  object \n",
      " 13  size             58180 non-null  object \n",
      " 14  coat             27185 non-null  object \n",
      " 15  fixed            58180 non-null  bool   \n",
      " 16  house_trained    58180 non-null  bool   \n",
      " 17  declawed         0 non-null      float64\n",
      " 18  special_needs    58180 non-null  bool   \n",
      " 19  shots_current    58180 non-null  bool   \n",
      " 20  env_children     28027 non-null  object \n",
      " 21  env_dogs         34669 non-null  object \n",
      " 22  env_cats         19352 non-null  object \n",
      " 23  name             58180 non-null  object \n",
      " 24  tags             5102 non-null   object \n",
      " 25  photo            33 non-null     object \n",
      " 26  status           58180 non-null  object \n",
      " 27  posted           58180 non-null  object \n",
      " 28  contact_city     58180 non-null  object \n",
      " 29  contact_state    58180 non-null  object \n",
      " 30  contact_zip      58168 non-null  object \n",
      " 31  contact_country  58180 non-null  object \n",
      " 32  stateQ           58180 non-null  object \n",
      " 33  accessed         58147 non-null  object \n",
      " 34  type             57540 non-null  object \n",
      " 35  description      49475 non-null  object \n",
      "dtypes: bool(6), float64(1), int64(1), object(28)\n",
      "memory usage: 13.6+ MB\n"
     ]
    }
   ],
   "source": [
    "# get general information of all columns\n",
    "data.info()"
   ]
  },
  {
   "cell_type": "markdown",
   "id": "1a6c557b",
   "metadata": {},
   "source": [
    "From here, it's important to know that there are 0 non-null rows for declawed. We won't want to use this column!"
   ]
  },
  {
   "cell_type": "code",
   "execution_count": 6,
   "id": "0a35eb5e",
   "metadata": {},
   "outputs": [
    {
     "data": {
      "text/html": [
       "<div>\n",
       "<style scoped>\n",
       "    .dataframe tbody tr th:only-of-type {\n",
       "        vertical-align: middle;\n",
       "    }\n",
       "\n",
       "    .dataframe tbody tr th {\n",
       "        vertical-align: top;\n",
       "    }\n",
       "\n",
       "    .dataframe thead th {\n",
       "        text-align: right;\n",
       "    }\n",
       "</style>\n",
       "<table border=\"1\" class=\"dataframe\">\n",
       "  <thead>\n",
       "    <tr style=\"text-align: right;\">\n",
       "      <th></th>\n",
       "      <th>id</th>\n",
       "      <th>org_id</th>\n",
       "      <th>url</th>\n",
       "      <th>species</th>\n",
       "      <th>breed_primary</th>\n",
       "      <th>breed_secondary</th>\n",
       "      <th>breed_mixed</th>\n",
       "      <th>breed_unknown</th>\n",
       "      <th>color_primary</th>\n",
       "      <th>color_secondary</th>\n",
       "      <th>...</th>\n",
       "      <th>status</th>\n",
       "      <th>posted</th>\n",
       "      <th>contact_city</th>\n",
       "      <th>contact_state</th>\n",
       "      <th>contact_zip</th>\n",
       "      <th>contact_country</th>\n",
       "      <th>stateQ</th>\n",
       "      <th>accessed</th>\n",
       "      <th>type</th>\n",
       "      <th>description</th>\n",
       "    </tr>\n",
       "  </thead>\n",
       "  <tbody>\n",
       "    <tr>\n",
       "      <th>0</th>\n",
       "      <td>46042150</td>\n",
       "      <td>NV163</td>\n",
       "      <td>https://www.petfinder.com/dog/harley-46042150/...</td>\n",
       "      <td>Dog</td>\n",
       "      <td>American Staffordshire Terrier</td>\n",
       "      <td>Mixed Breed</td>\n",
       "      <td>True</td>\n",
       "      <td>False</td>\n",
       "      <td>White / Cream</td>\n",
       "      <td>Yellow / Tan / Blond / Fawn</td>\n",
       "      <td>...</td>\n",
       "      <td>adoptable</td>\n",
       "      <td>2019-09-20T16:37:59+0000</td>\n",
       "      <td>Las Vegas</td>\n",
       "      <td>NV</td>\n",
       "      <td>89147</td>\n",
       "      <td>US</td>\n",
       "      <td>89009</td>\n",
       "      <td>2019-09-20</td>\n",
       "      <td>Dog</td>\n",
       "      <td>Harley is not sure how he wound up at shelter ...</td>\n",
       "    </tr>\n",
       "    <tr>\n",
       "      <th>1</th>\n",
       "      <td>46042002</td>\n",
       "      <td>NV163</td>\n",
       "      <td>https://www.petfinder.com/dog/biggie-46042002/...</td>\n",
       "      <td>Dog</td>\n",
       "      <td>Pit Bull Terrier</td>\n",
       "      <td>Mixed Breed</td>\n",
       "      <td>True</td>\n",
       "      <td>False</td>\n",
       "      <td>Brown / Chocolate</td>\n",
       "      <td>White / Cream</td>\n",
       "      <td>...</td>\n",
       "      <td>adoptable</td>\n",
       "      <td>2019-09-20T16:24:57+0000</td>\n",
       "      <td>Las Vegas</td>\n",
       "      <td>NV</td>\n",
       "      <td>89147</td>\n",
       "      <td>US</td>\n",
       "      <td>89009</td>\n",
       "      <td>2019-09-20</td>\n",
       "      <td>Dog</td>\n",
       "      <td>6 year old Biggie has lost his home and really...</td>\n",
       "    </tr>\n",
       "    <tr>\n",
       "      <th>2</th>\n",
       "      <td>46040898</td>\n",
       "      <td>NV99</td>\n",
       "      <td>https://www.petfinder.com/dog/ziggy-46040898/n...</td>\n",
       "      <td>Dog</td>\n",
       "      <td>Shepherd</td>\n",
       "      <td>NaN</td>\n",
       "      <td>False</td>\n",
       "      <td>False</td>\n",
       "      <td>Brindle</td>\n",
       "      <td>NaN</td>\n",
       "      <td>...</td>\n",
       "      <td>adoptable</td>\n",
       "      <td>2019-09-20T14:10:11+0000</td>\n",
       "      <td>Mesquite</td>\n",
       "      <td>NV</td>\n",
       "      <td>89027</td>\n",
       "      <td>US</td>\n",
       "      <td>89009</td>\n",
       "      <td>2019-09-20</td>\n",
       "      <td>Dog</td>\n",
       "      <td>Approx 2 years old.\\n Did I catch your eye? I ...</td>\n",
       "    </tr>\n",
       "    <tr>\n",
       "      <th>3</th>\n",
       "      <td>46039877</td>\n",
       "      <td>NV202</td>\n",
       "      <td>https://www.petfinder.com/dog/gypsy-46039877/n...</td>\n",
       "      <td>Dog</td>\n",
       "      <td>German Shepherd Dog</td>\n",
       "      <td>NaN</td>\n",
       "      <td>False</td>\n",
       "      <td>False</td>\n",
       "      <td>NaN</td>\n",
       "      <td>NaN</td>\n",
       "      <td>...</td>\n",
       "      <td>adoptable</td>\n",
       "      <td>2019-09-20T10:08:22+0000</td>\n",
       "      <td>Pahrump</td>\n",
       "      <td>NV</td>\n",
       "      <td>89048</td>\n",
       "      <td>US</td>\n",
       "      <td>89009</td>\n",
       "      <td>2019-09-20</td>\n",
       "      <td>Dog</td>\n",
       "      <td>NaN</td>\n",
       "    </tr>\n",
       "    <tr>\n",
       "      <th>4</th>\n",
       "      <td>46039306</td>\n",
       "      <td>NV184</td>\n",
       "      <td>https://www.petfinder.com/dog/theo-46039306/nv...</td>\n",
       "      <td>Dog</td>\n",
       "      <td>Dachshund</td>\n",
       "      <td>NaN</td>\n",
       "      <td>False</td>\n",
       "      <td>False</td>\n",
       "      <td>NaN</td>\n",
       "      <td>NaN</td>\n",
       "      <td>...</td>\n",
       "      <td>adoptable</td>\n",
       "      <td>2019-09-20T06:48:30+0000</td>\n",
       "      <td>Henderson</td>\n",
       "      <td>NV</td>\n",
       "      <td>89052</td>\n",
       "      <td>US</td>\n",
       "      <td>89009</td>\n",
       "      <td>2019-09-20</td>\n",
       "      <td>Dog</td>\n",
       "      <td>Theo is a friendly dachshund mix who gets alon...</td>\n",
       "    </tr>\n",
       "    <tr>\n",
       "      <th>5</th>\n",
       "      <td>46039304</td>\n",
       "      <td>NV184</td>\n",
       "      <td>https://www.petfinder.com/dog/oliver-46039304/...</td>\n",
       "      <td>Dog</td>\n",
       "      <td>Boxer</td>\n",
       "      <td>Beagle</td>\n",
       "      <td>True</td>\n",
       "      <td>False</td>\n",
       "      <td>NaN</td>\n",
       "      <td>NaN</td>\n",
       "      <td>...</td>\n",
       "      <td>adoptable</td>\n",
       "      <td>2019-09-20T06:43:59+0000</td>\n",
       "      <td>Henderson</td>\n",
       "      <td>NV</td>\n",
       "      <td>89052</td>\n",
       "      <td>US</td>\n",
       "      <td>89009</td>\n",
       "      <td>2019-09-20</td>\n",
       "      <td>Dog</td>\n",
       "      <td>Oliver was born around mid-June and came to us...</td>\n",
       "    </tr>\n",
       "    <tr>\n",
       "      <th>6</th>\n",
       "      <td>46039303</td>\n",
       "      <td>NV184</td>\n",
       "      <td>https://www.petfinder.com/dog/macadamia-460393...</td>\n",
       "      <td>Dog</td>\n",
       "      <td>Italian Greyhound</td>\n",
       "      <td>Chihuahua</td>\n",
       "      <td>True</td>\n",
       "      <td>False</td>\n",
       "      <td>NaN</td>\n",
       "      <td>NaN</td>\n",
       "      <td>...</td>\n",
       "      <td>adoptable</td>\n",
       "      <td>2019-09-20T06:42:30+0000</td>\n",
       "      <td>Henderson</td>\n",
       "      <td>NV</td>\n",
       "      <td>89052</td>\n",
       "      <td>US</td>\n",
       "      <td>89009</td>\n",
       "      <td>2019-09-20</td>\n",
       "      <td>Dog</td>\n",
       "      <td>Macadamia was born around July 8th and donât...</td>\n",
       "    </tr>\n",
       "    <tr>\n",
       "      <th>7</th>\n",
       "      <td>46039302</td>\n",
       "      <td>NV184</td>\n",
       "      <td>https://www.petfinder.com/dog/dodger-46039302/...</td>\n",
       "      <td>Dog</td>\n",
       "      <td>Cattle Dog</td>\n",
       "      <td>NaN</td>\n",
       "      <td>True</td>\n",
       "      <td>False</td>\n",
       "      <td>NaN</td>\n",
       "      <td>NaN</td>\n",
       "      <td>...</td>\n",
       "      <td>adoptable</td>\n",
       "      <td>2019-09-20T06:40:08+0000</td>\n",
       "      <td>Henderson</td>\n",
       "      <td>NV</td>\n",
       "      <td>89052</td>\n",
       "      <td>US</td>\n",
       "      <td>89009</td>\n",
       "      <td>2019-09-20</td>\n",
       "      <td>Dog</td>\n",
       "      <td>Dodger is a handsome, smart Heeler mix who was...</td>\n",
       "    </tr>\n",
       "    <tr>\n",
       "      <th>8</th>\n",
       "      <td>46039301</td>\n",
       "      <td>NV184</td>\n",
       "      <td>https://www.petfinder.com/dog/huckleberry-4603...</td>\n",
       "      <td>Dog</td>\n",
       "      <td>Cattle Dog</td>\n",
       "      <td>NaN</td>\n",
       "      <td>True</td>\n",
       "      <td>False</td>\n",
       "      <td>NaN</td>\n",
       "      <td>NaN</td>\n",
       "      <td>...</td>\n",
       "      <td>adoptable</td>\n",
       "      <td>2019-09-20T06:37:05+0000</td>\n",
       "      <td>Henderson</td>\n",
       "      <td>NV</td>\n",
       "      <td>89052</td>\n",
       "      <td>US</td>\n",
       "      <td>89009</td>\n",
       "      <td>2019-09-20</td>\n",
       "      <td>Dog</td>\n",
       "      <td>Huckleberry is a friendly girl who was born Ma...</td>\n",
       "    </tr>\n",
       "    <tr>\n",
       "      <th>9</th>\n",
       "      <td>46038709</td>\n",
       "      <td>NV184</td>\n",
       "      <td>https://www.petfinder.com/dog/fagin-46038709/n...</td>\n",
       "      <td>Dog</td>\n",
       "      <td>Cattle Dog</td>\n",
       "      <td>NaN</td>\n",
       "      <td>True</td>\n",
       "      <td>False</td>\n",
       "      <td>NaN</td>\n",
       "      <td>NaN</td>\n",
       "      <td>...</td>\n",
       "      <td>adoptable</td>\n",
       "      <td>2019-09-20T05:00:51+0000</td>\n",
       "      <td>Henderson</td>\n",
       "      <td>NV</td>\n",
       "      <td>89052</td>\n",
       "      <td>US</td>\n",
       "      <td>89009</td>\n",
       "      <td>2019-09-20</td>\n",
       "      <td>Dog</td>\n",
       "      <td>Fagin was born on May 26th and is a smart, inq...</td>\n",
       "    </tr>\n",
       "  </tbody>\n",
       "</table>\n",
       "<p>10 rows × 36 columns</p>\n",
       "</div>"
      ],
      "text/plain": [
       "         id org_id                                                url species  \\\n",
       "0  46042150  NV163  https://www.petfinder.com/dog/harley-46042150/...     Dog   \n",
       "1  46042002  NV163  https://www.petfinder.com/dog/biggie-46042002/...     Dog   \n",
       "2  46040898   NV99  https://www.petfinder.com/dog/ziggy-46040898/n...     Dog   \n",
       "3  46039877  NV202  https://www.petfinder.com/dog/gypsy-46039877/n...     Dog   \n",
       "4  46039306  NV184  https://www.petfinder.com/dog/theo-46039306/nv...     Dog   \n",
       "5  46039304  NV184  https://www.petfinder.com/dog/oliver-46039304/...     Dog   \n",
       "6  46039303  NV184  https://www.petfinder.com/dog/macadamia-460393...     Dog   \n",
       "7  46039302  NV184  https://www.petfinder.com/dog/dodger-46039302/...     Dog   \n",
       "8  46039301  NV184  https://www.petfinder.com/dog/huckleberry-4603...     Dog   \n",
       "9  46038709  NV184  https://www.petfinder.com/dog/fagin-46038709/n...     Dog   \n",
       "\n",
       "                    breed_primary breed_secondary  breed_mixed  breed_unknown  \\\n",
       "0  American Staffordshire Terrier     Mixed Breed         True          False   \n",
       "1                Pit Bull Terrier     Mixed Breed         True          False   \n",
       "2                        Shepherd             NaN        False          False   \n",
       "3             German Shepherd Dog             NaN        False          False   \n",
       "4                       Dachshund             NaN        False          False   \n",
       "5                           Boxer          Beagle         True          False   \n",
       "6               Italian Greyhound       Chihuahua         True          False   \n",
       "7                      Cattle Dog             NaN         True          False   \n",
       "8                      Cattle Dog             NaN         True          False   \n",
       "9                      Cattle Dog             NaN         True          False   \n",
       "\n",
       "       color_primary              color_secondary  ...     status  \\\n",
       "0      White / Cream  Yellow / Tan / Blond / Fawn  ...  adoptable   \n",
       "1  Brown / Chocolate                White / Cream  ...  adoptable   \n",
       "2            Brindle                          NaN  ...  adoptable   \n",
       "3                NaN                          NaN  ...  adoptable   \n",
       "4                NaN                          NaN  ...  adoptable   \n",
       "5                NaN                          NaN  ...  adoptable   \n",
       "6                NaN                          NaN  ...  adoptable   \n",
       "7                NaN                          NaN  ...  adoptable   \n",
       "8                NaN                          NaN  ...  adoptable   \n",
       "9                NaN                          NaN  ...  adoptable   \n",
       "\n",
       "                     posted contact_city contact_state contact_zip  \\\n",
       "0  2019-09-20T16:37:59+0000    Las Vegas            NV       89147   \n",
       "1  2019-09-20T16:24:57+0000    Las Vegas            NV       89147   \n",
       "2  2019-09-20T14:10:11+0000     Mesquite            NV       89027   \n",
       "3  2019-09-20T10:08:22+0000      Pahrump            NV       89048   \n",
       "4  2019-09-20T06:48:30+0000    Henderson            NV       89052   \n",
       "5  2019-09-20T06:43:59+0000    Henderson            NV       89052   \n",
       "6  2019-09-20T06:42:30+0000    Henderson            NV       89052   \n",
       "7  2019-09-20T06:40:08+0000    Henderson            NV       89052   \n",
       "8  2019-09-20T06:37:05+0000    Henderson            NV       89052   \n",
       "9  2019-09-20T05:00:51+0000    Henderson            NV       89052   \n",
       "\n",
       "   contact_country  stateQ    accessed  type  \\\n",
       "0               US   89009  2019-09-20   Dog   \n",
       "1               US   89009  2019-09-20   Dog   \n",
       "2               US   89009  2019-09-20   Dog   \n",
       "3               US   89009  2019-09-20   Dog   \n",
       "4               US   89009  2019-09-20   Dog   \n",
       "5               US   89009  2019-09-20   Dog   \n",
       "6               US   89009  2019-09-20   Dog   \n",
       "7               US   89009  2019-09-20   Dog   \n",
       "8               US   89009  2019-09-20   Dog   \n",
       "9               US   89009  2019-09-20   Dog   \n",
       "\n",
       "                                         description  \n",
       "0  Harley is not sure how he wound up at shelter ...  \n",
       "1  6 year old Biggie has lost his home and really...  \n",
       "2  Approx 2 years old.\\n Did I catch your eye? I ...  \n",
       "3                                                NaN  \n",
       "4  Theo is a friendly dachshund mix who gets alon...  \n",
       "5  Oliver was born around mid-June and came to us...  \n",
       "6  Macadamia was born around July 8th and donât...  \n",
       "7  Dodger is a handsome, smart Heeler mix who was...  \n",
       "8  Huckleberry is a friendly girl who was born Ma...  \n",
       "9  Fagin was born on May 26th and is a smart, inq...  \n",
       "\n",
       "[10 rows x 36 columns]"
      ]
     },
     "execution_count": 6,
     "metadata": {},
     "output_type": "execute_result"
    }
   ],
   "source": [
    "data.head(10)"
   ]
  },
  {
   "cell_type": "markdown",
   "id": "a5694ec0-7809-4d7d-83d1-f574eb3aa6ad",
   "metadata": {},
   "source": [
    "From this dataframe, let's look at a few select columns. "
   ]
  },
  {
   "cell_type": "code",
   "execution_count": 7,
   "id": "9f756d01-a374-42c7-bc0a-ee2df27964a7",
   "metadata": {},
   "outputs": [],
   "source": [
    "breed_desc = data[['breed_primary','age', 'sex', 'size', 'status', 'description', 'contact_city', 'contact_state','fixed',\n",
    "       'house_trained', 'special_needs', 'shots_current',\n",
    "       'env_children', 'env_dogs', 'env_cats', 'posted']].dropna() # drop empty values"
   ]
  },
  {
   "cell_type": "code",
   "execution_count": 8,
   "id": "51e91406-1a2d-4fe2-91e2-3f0cea226af6",
   "metadata": {},
   "outputs": [
    {
     "data": {
      "text/plain": [
       "<AxesSubplot:>"
      ]
     },
     "execution_count": 8,
     "metadata": {},
     "output_type": "execute_result"
    },
    {
     "data": {
      "image/png": "[encoded data removed]",
      "text/plain": [
       "<Figure size 432x288 with 1 Axes>"
      ]
     },
     "metadata": {
      "needs_background": "light"
     },
     "output_type": "display_data"
    }
   ],
   "source": [
    "breed_desc[\"breed_primary\"].value_counts().head(10).plot(kind='barh')"
   ]
  },
  {
   "cell_type": "markdown",
   "id": "5a3263d0",
   "metadata": {},
   "source": [
    "Most dogs are Labs, Pit Bulls, or Chihuahuas. Do note, that this is a dog's \"primary breed,\" so it is probably the case that many of these dogs are indeed mixed, but this is the breed they most resemble."
   ]
  },
  {
   "cell_type": "code",
   "execution_count": 9,
   "id": "acd940c5-76c8-41d3-b67c-f5ad3110d0ba",
   "metadata": {},
   "outputs": [
    {
     "data": {
      "text/plain": [
       "<AxesSubplot:ylabel='age,sex'>"
      ]
     },
     "execution_count": 9,
     "metadata": {},
     "output_type": "execute_result"
    },
    {
     "data": {
      "image/png": "[encoded data removed]",
      "text/plain": [
       "<Figure size 432x288 with 1 Axes>"
      ]
     },
     "metadata": {
      "needs_background": "light"
     },
     "output_type": "display_data"
    }
   ],
   "source": [
    "breed_desc[[\"age\", \"sex\"]].value_counts().plot(kind='barh')"
   ]
  },
  {
   "cell_type": "markdown",
   "id": "f4f1d89a",
   "metadata": {},
   "source": [
    "Most dogs are adults (female, then male), then baby (female, then male), then young (male, then female), then senior (female, male)."
   ]
  },
  {
   "cell_type": "code",
   "execution_count": 10,
   "id": "826d618c-adea-4ffc-a4d2-6549eea900ab",
   "metadata": {},
   "outputs": [
    {
     "data": {
      "text/plain": [
       "<AxesSubplot:>"
      ]
     },
     "execution_count": 10,
     "metadata": {},
     "output_type": "execute_result"
    },
    {
     "data": {
      "image/png": "[encoded data removed]",
      "text/plain": [
       "<Figure size 432x288 with 1 Axes>"
      ]
     },
     "metadata": {
      "needs_background": "light"
     },
     "output_type": "display_data"
    }
   ],
   "source": [
    "breed_desc[\"size\"].value_counts().plot(kind='barh')"
   ]
  },
  {
   "cell_type": "markdown",
   "id": "ccee6005-3662-4482-826d-71af57fa519d",
   "metadata": {},
   "source": [
    "Most dogs are \"medium sized.\" This overview has given us good quantitative data of what the dogs looks like, but the heart and soul of a rescue dog's personality lives in the description."
   ]
  },
  {
   "cell_type": "markdown",
   "id": "94598175",
   "metadata": {},
   "source": [
    "## Q1: What does a typical description of a dog look like?"
   ]
  },
  {
   "cell_type": "markdown",
   "id": "36593397",
   "metadata": {},
   "source": [
    "First, let's clean the descritptions to remove punctuation, extra spaces, tabs, and new lines."
   ]
  },
  {
   "cell_type": "code",
   "execution_count": 11,
   "id": "983406d5-e294-4d68-b2d6-ee7b24edcc56",
   "metadata": {},
   "outputs": [],
   "source": [
    "def clean_desc(text):\n",
    "    text = text.lower()  # lowercase text\n",
    "    text = re.sub(f\"[{re.escape(punctuation)}]\", \"\", text)  # Remove punctuation\n",
    "    text = \" \".join(text.split())  # Remove extra spaces, tabs, and new lines\n",
    "    return text"
   ]
  },
  {
   "cell_type": "code",
   "execution_count": 12,
   "id": "cd35a1af-2c59-4812-a7ef-5352ab843d08",
   "metadata": {},
   "outputs": [
    {
     "data": {
      "text/plain": [
       "4        theo is a friendly dachshund mix who gets alon...\n",
       "5        oliver was born around midjune and came to us ...\n",
       "6        macadamia was born around july 8th and donât...\n",
       "7        dodger is a handsome smart heeler mix who was ...\n",
       "8        huckleberry is a friendly girl who was born ma...\n",
       "                               ...                        \n",
       "58164    dwayne is your typical adolescent happy playfu...\n",
       "58165    sebastian is your typical herding dog high ene...\n",
       "58166    charlie was adopted from us 5 years ago but re...\n",
       "58167    samson is a dog that will need someone to show...\n",
       "58172    buddy was an owner surrender by an older gentl...\n",
       "Name: clean_text, Length: 12992, dtype: object"
      ]
     },
     "execution_count": 12,
     "metadata": {},
     "output_type": "execute_result"
    }
   ],
   "source": [
    "breed_desc[\"clean_text\"] = breed_desc[\"description\"].map(clean_desc) # perform clean_desc function on every row\n",
    "breed_desc[\"clean_text\"]"
   ]
  },
  {
   "cell_type": "markdown",
   "id": "b3a38582",
   "metadata": {},
   "source": [
    "Then, we'll remove the `stopwords`, or commonly used words such as \"the\", \"is\", \"as\", \"a\", and \"and.\""
   ]
  },
  {
   "cell_type": "code",
   "execution_count": 13,
   "id": "0487ac8d",
   "metadata": {},
   "outputs": [],
   "source": [
    "from nltk.corpus import stopwords\n",
    "from nltk.tokenize import word_tokenize\n",
    " \n",
    "stop_words = set(stopwords.words('english'))\n",
    "\n",
    "def remove_stop(text):\n",
    "    word_tokens = word_tokenize(text)\n",
    "    filtered_sentence = [w for w in word_tokens if not w.lower() in stop_words]\n",
    "    filtered_sentence = []\n",
    " \n",
    "    for w in word_tokens:\n",
    "        if w not in stop_words:\n",
    "            filtered_sentence.append(w)\n",
    "\n",
    "    return filtered_sentence\n",
    "\n",
    "breed_desc[\"no_stop\"] = breed_desc[\"clean_text\"].map(remove_stop)"
   ]
  },
  {
   "cell_type": "markdown",
   "id": "beb2d083",
   "metadata": {},
   "source": [
    "Finally, we'll use a counter to count the occurances of each word in all the descriptions."
   ]
  },
  {
   "cell_type": "code",
   "execution_count": 14,
   "id": "3c65b296",
   "metadata": {},
   "outputs": [],
   "source": [
    "from collections import Counter\n",
    "c = Counter()\n",
    "for row in breed_desc[\"no_stop\"]:\n",
    "    for word in set(row):\n",
    "        c[word] += 1"
   ]
  },
  {
   "cell_type": "code",
   "execution_count": 15,
   "id": "0c5103a9",
   "metadata": {},
   "outputs": [
    {
     "data": {
      "text/html": [
       "<div>\n",
       "<style scoped>\n",
       "    .dataframe tbody tr th:only-of-type {\n",
       "        vertical-align: middle;\n",
       "    }\n",
       "\n",
       "    .dataframe tbody tr th {\n",
       "        vertical-align: top;\n",
       "    }\n",
       "\n",
       "    .dataframe thead th {\n",
       "        text-align: right;\n",
       "    }\n",
       "</style>\n",
       "<table border=\"1\" class=\"dataframe\">\n",
       "  <thead>\n",
       "    <tr style=\"text-align: right;\">\n",
       "      <th></th>\n",
       "      <th>0</th>\n",
       "    </tr>\n",
       "  </thead>\n",
       "  <tbody>\n",
       "    <tr>\n",
       "      <th>dogs</th>\n",
       "      <td>8018</td>\n",
       "    </tr>\n",
       "    <tr>\n",
       "      <th>home</th>\n",
       "      <td>7703</td>\n",
       "    </tr>\n",
       "    <tr>\n",
       "      <th>please</th>\n",
       "      <td>7206</td>\n",
       "    </tr>\n",
       "    <tr>\n",
       "      <th>adoption</th>\n",
       "      <td>6843</td>\n",
       "    </tr>\n",
       "    <tr>\n",
       "      <th>old</th>\n",
       "      <td>6507</td>\n",
       "    </tr>\n",
       "    <tr>\n",
       "      <th>dog</th>\n",
       "      <td>6284</td>\n",
       "    </tr>\n",
       "    <tr>\n",
       "      <th>application</th>\n",
       "      <td>6089</td>\n",
       "    </tr>\n",
       "    <tr>\n",
       "      <th>would</th>\n",
       "      <td>5332</td>\n",
       "    </tr>\n",
       "    <tr>\n",
       "      <th>loves</th>\n",
       "      <td>5000</td>\n",
       "    </tr>\n",
       "    <tr>\n",
       "      <th>family</th>\n",
       "      <td>4646</td>\n",
       "    </tr>\n",
       "    <tr>\n",
       "      <th>love</th>\n",
       "      <td>4562</td>\n",
       "    </tr>\n",
       "    <tr>\n",
       "      <th>meet</th>\n",
       "      <td>4387</td>\n",
       "    </tr>\n",
       "    <tr>\n",
       "      <th>cats</th>\n",
       "      <td>4376</td>\n",
       "    </tr>\n",
       "    <tr>\n",
       "      <th>sweet</th>\n",
       "      <td>4358</td>\n",
       "    </tr>\n",
       "    <tr>\n",
       "      <th>fee</th>\n",
       "      <td>4046</td>\n",
       "    </tr>\n",
       "    <tr>\n",
       "      <th>foster</th>\n",
       "      <td>3909</td>\n",
       "    </tr>\n",
       "    <tr>\n",
       "      <th>good</th>\n",
       "      <td>3888</td>\n",
       "    </tr>\n",
       "    <tr>\n",
       "      <th>well</th>\n",
       "      <td>3862</td>\n",
       "    </tr>\n",
       "    <tr>\n",
       "      <th>like</th>\n",
       "      <td>3857</td>\n",
       "    </tr>\n",
       "    <tr>\n",
       "      <th>mix</th>\n",
       "      <td>3826</td>\n",
       "    </tr>\n",
       "    <tr>\n",
       "      <th>great</th>\n",
       "      <td>3744</td>\n",
       "    </tr>\n",
       "    <tr>\n",
       "      <th>best</th>\n",
       "      <td>3480</td>\n",
       "    </tr>\n",
       "    <tr>\n",
       "      <th>people</th>\n",
       "      <td>3435</td>\n",
       "    </tr>\n",
       "    <tr>\n",
       "      <th>time</th>\n",
       "      <td>3412</td>\n",
       "    </tr>\n",
       "    <tr>\n",
       "      <th>interested</th>\n",
       "      <td>3406</td>\n",
       "    </tr>\n",
       "    <tr>\n",
       "      <th>us</th>\n",
       "      <td>3376</td>\n",
       "    </tr>\n",
       "    <tr>\n",
       "      <th>go</th>\n",
       "      <td>3368</td>\n",
       "    </tr>\n",
       "    <tr>\n",
       "      <th>fill</th>\n",
       "      <td>3333</td>\n",
       "    </tr>\n",
       "    <tr>\n",
       "      <th>new</th>\n",
       "      <td>3300</td>\n",
       "    </tr>\n",
       "    <tr>\n",
       "      <th>play</th>\n",
       "      <td>3296</td>\n",
       "    </tr>\n",
       "  </tbody>\n",
       "</table>\n",
       "</div>"
      ],
      "text/plain": [
       "                0\n",
       "dogs         8018\n",
       "home         7703\n",
       "please       7206\n",
       "adoption     6843\n",
       "old          6507\n",
       "dog          6284\n",
       "application  6089\n",
       "would        5332\n",
       "loves        5000\n",
       "family       4646\n",
       "love         4562\n",
       "meet         4387\n",
       "cats         4376\n",
       "sweet        4358\n",
       "fee          4046\n",
       "foster       3909\n",
       "good         3888\n",
       "well         3862\n",
       "like         3857\n",
       "mix          3826\n",
       "great        3744\n",
       "best         3480\n",
       "people       3435\n",
       "time         3412\n",
       "interested   3406\n",
       "us           3376\n",
       "go           3368\n",
       "fill         3333\n",
       "new          3300\n",
       "play         3296"
      ]
     },
     "execution_count": 15,
     "metadata": {},
     "output_type": "execute_result"
    }
   ],
   "source": [
    "top_words = pd.DataFrame.from_dict(c, orient='index').sort_values(by=0, ascending=False)\n",
    "top_words.head(30)"
   ]
  },
  {
   "cell_type": "markdown",
   "id": "957e3867",
   "metadata": {},
   "source": [
    "It looks like the top words include expected words like \"dog\", \"dogs\", \"good\", but also includes others such as \"old\" (which is surprising since we saw most dogs were actually adult age). It also looks like people are well mannered when explaining next steps for adopting dogs: words like \"please\", \"fill\" and \"application\" rank highly on the list."
   ]
  },
  {
   "cell_type": "markdown",
   "id": "2033d9fc-bb7a-4265-aa71-2ed1d83374e0",
   "metadata": {},
   "source": [
    "## Q2: Can we generate our own dog descriptions?\n",
    "### (or, Markov chains and text wrangling for computer-generated descriptions)\n",
    "\n",
    "We can use a technique called [Markov chains](https://setosa.io/ev/markov-chains/) and the library [markovify](https://pypi.org/project/markovify/) to use natural language processing techniques for generating fake dog descriptions."
   ]
  },
  {
   "cell_type": "code",
   "execution_count": 16,
   "id": "8b7f0b66-0d84-4074-8ae4-4932369162d6",
   "metadata": {},
   "outputs": [
    {
     "name": "stdout",
     "output_type": "stream",
     "text": [
      "are you looking for a good home and promise to love you to the max\n",
      "\n",
      "nys registered rescue rr102 ngpr dogs are in foster care once approved the foster parent for the dog you have selected will contact you to schedule a meet and greet with her\n",
      "\n",
      "meet shepherd a good looking guy he is sweet and snuggly a bit hyper but he listens very well he is so smart a very good dog\n",
      "\n"
     ]
    }
   ],
   "source": [
    "# set seed for reproducibility\n",
    "np.random.seed(500)\n",
    "\n",
    "# take 4 words at a time to train markov chain\n",
    "text_model = markovify.Text(breed_desc[\"clean_text\"], state_size=4)\n",
    "\n",
    "# generate three sentences of 280 character length from trained model\n",
    "for i in range(3):\n",
    "    print(text_model.make_short_sentence(280) + \"\\n\")"
   ]
  },
  {
   "cell_type": "markdown",
   "id": "da51af19-a6bc-4dfa-94ed-f0ea3eb1def7",
   "metadata": {},
   "source": [
    "This was quite fun. It looks like these are almost normal looking sentences! Markov chains are great for analyzing large corpus and generating similar word chains. If we wanted this to be even more natural sounding, we might increase our state size. However, this will take much longer to train, and it may overfit and just memorize words. For now, this looks like a great start to catfishing dogs."
   ]
  },
  {
   "cell_type": "markdown",
   "id": "8707cb57",
   "metadata": {},
   "source": [
    "## Q3: Are Pit Bulls really mean?\n",
    "\n",
    "Pit Bulls get a bad wrap for being a dog with an attitude issue. To see if this hypothesis holds up, let's look at the variables `env_dogs`, `env_children`, and `env_cats`, which denotes if a dog is safe to live in a home with other dogs, children, and cats, respectively."
   ]
  },
  {
   "cell_type": "code",
   "execution_count": 17,
   "id": "6f3b3031",
   "metadata": {},
   "outputs": [],
   "source": [
    "pb = breed_desc[breed_desc[\"breed_primary\"] == \"Pit Bull Terrier\"]"
   ]
  },
  {
   "cell_type": "code",
   "execution_count": 18,
   "id": "bfd8df6a",
   "metadata": {},
   "outputs": [
    {
     "data": {
      "image/png": "[encoded data removed]",
      "text/plain": [
       "<Figure size 432x288 with 1 Axes>"
      ]
     },
     "metadata": {},
     "output_type": "display_data"
    }
   ],
   "source": [
    "pb[\"env_dogs\"].value_counts().plot(kind='pie', autopct='%1.1f%%')\n",
    "plt.show()"
   ]
  },
  {
   "cell_type": "code",
   "execution_count": 19,
   "id": "77a38e38",
   "metadata": {},
   "outputs": [
    {
     "data": {
      "image/png": "[encoded data removed]",
      "text/plain": [
       "<Figure size 432x288 with 1 Axes>"
      ]
     },
     "metadata": {},
     "output_type": "display_data"
    }
   ],
   "source": [
    "pb[\"env_children\"].value_counts().plot(kind='pie', autopct='%1.1f%%')\n",
    "plt.show()"
   ]
  },
  {
   "cell_type": "code",
   "execution_count": 20,
   "id": "e23efc46",
   "metadata": {},
   "outputs": [
    {
     "data": {
      "image/png": "[encoded data removed]",
      "text/plain": [
       "<Figure size 432x288 with 1 Axes>"
      ]
     },
     "metadata": {},
     "output_type": "display_data"
    }
   ],
   "source": [
    "pb[\"env_cats\"].value_counts().plot(kind='pie', autopct='%1.1f%%')\n",
    "plt.show()"
   ]
  },
  {
   "cell_type": "markdown",
   "id": "7bdef531",
   "metadata": {},
   "source": [
    "Looking at these graphs, the majority of pit bulls are safe with kids and dogs, and about half are safe for cat-owners. This certainly isn't thourough evidence to say much on the breed, but hopefully it sheds light on the kind of homes these dogs thrive in."
   ]
  },
  {
   "cell_type": "markdown",
   "id": "390800e0",
   "metadata": {},
   "source": [
    "## Q4: What states have the most adoptable dogs?"
   ]
  },
  {
   "cell_type": "code",
   "execution_count": 21,
   "id": "9606fe34-5ae6-4b8e-a98d-68e1f1232394",
   "metadata": {},
   "outputs": [
    {
     "name": "stdout",
     "output_type": "stream",
     "text": [
      "Index(['PA', 'NY', 'NJ', 'GA', 'FL', 'OH', 'VA', 'NC', 'IN', 'CT', 'TN', 'AZ',\n",
      "       'WA', 'CO', 'OK', 'SC', 'MN', 'MD', 'IL', 'KY', 'MA', 'CA', 'AL', 'VT',\n",
      "       'MS', 'ME', 'MO', 'NV', 'RI', 'MI', 'LA', 'IA', 'WI', 'AR', 'NM', 'WV',\n",
      "       'TX', 'NH', 'KS', 'DC', 'DE', 'ND', 'UT', 'OR', 'WY', 'NE', 'ID', 'AK',\n",
      "       'QC', 'SD', '98106', 'NB', '45249', '37189', '12220', '61944'],\n",
      "      dtype='object')\n"
     ]
    }
   ],
   "source": [
    "import plotly.express as px\n",
    "\n",
    "# find number of occurances for each state\n",
    "states = breed_desc.contact_state.value_counts().to_frame()\n",
    "states['state'] = states.index\n",
    "print(states.index)"
   ]
  },
  {
   "cell_type": "markdown",
   "id": "c1c88573",
   "metadata": {},
   "source": [
    "Not all of these are valid US states. Some are from Canada, and some are zip codes. After doing some digging, I was able to locate where all of the zip codes are from, and decided to remove the Canadian provinces."
   ]
  },
  {
   "cell_type": "code",
   "execution_count": 22,
   "id": "1c4b9b63",
   "metadata": {},
   "outputs": [],
   "source": [
    "# rows that we do not want as part of our map\n",
    "excess_rows = ['98106', '45249', '37189', '12220', '61944', 'QC', 'NB']\n",
    "\n",
    "# add together the rows that include the zip code of the state, then drop the rows\n",
    "states.loc['OH', 'contact_state'] = states.loc['45249', 'contact_state'] + states.loc['OH', 'contact_state']\n",
    "states.loc['TN', 'contact_state'] = states.loc['37189', 'contact_state'] + states.loc['TN', 'contact_state']\n",
    "states.loc['NY', 'contact_state'] = states.loc['12220', 'contact_state'] + states.loc['NY', 'contact_state']\n",
    "states.loc['IL', 'contact_state'] = states.loc['61944', 'contact_state'] + states.loc['IL', 'contact_state']\n",
    "states.loc['WA', 'contact_state'] = states.loc['98106', 'contact_state'] + states.loc['WA', 'contact_state']\n",
    "states['adoptable_dogs'] = states['contact_state']\n",
    "states = states.drop(excess_rows)"
   ]
  },
  {
   "cell_type": "code",
   "execution_count": 23,
   "id": "bda89c1f",
   "metadata": {},
   "outputs": [
    {
     "data": {
      "application/vnd.plotly.v1+json": {
       "config": {
        "plotlyServerURL": "https://plot.ly"
       },
       "data": [
        {
         "coloraxis": "coloraxis",
         "geo": "geo",
         "hovertemplate": "state=%{location}<br>adoptable_dogs=%{z}<extra></extra>",
         "locationmode": "USA-states",
         "locations": [
          "PA",
          "NY",
          "NJ",
          "GA",
          "FL",
          "OH",
          "VA",
          "NC",
          "IN",
          "CT",
          "TN",
          "AZ",
          "WA",
          "CO",
          "OK",
          "SC",
          "MN",
          "MD",
          "IL",
          "KY",
          "MA",
          "CA",
          "AL",
          "VT",
          "MS",
          "ME",
          "MO",
          "NV",
          "RI",
          "MI",
          "LA",
          "IA",
          "WI",
          "AR",
          "NM",
          "WV",
          "TX",
          "NH",
          "KS",
          "DC",
          "DE",
          "ND",
          "UT",
          "OR",
          "WY",
          "NE",
          "ID",
          "AK",
          "SD"
         ],
         "name": "",
         "type": "choropleth",
         "z": [
          1015,
          1010,
          890,
          707,
          568,
          549,
          531,
          518,
          497,
          478,
          449,
          438,
          363,
          354,
          324,
          322,
          303,
          288,
          264,
          256,
          244,
          240,
          218,
          189,
          184,
          165,
          156,
          154,
          152,
          144,
          143,
          117,
          113,
          87,
          84,
          76,
          74,
          65,
          62,
          54,
          42,
          23,
          21,
          16,
          15,
          13,
          6,
          5,
          2
         ]
        }
       ],
       "layout": {
        "coloraxis": {
         "colorbar": {
          "title": {
           "text": "adoptable_dogs"
          }
         },
         "colorscale": [
          [
           0,
           "#0d0887"
          ],
          [
           0.1111111111111111,
           "#46039f"
          ],
          [
           0.2222222222222222,
           "#7201a8"
          ],
          [
           0.3333333333333333,
           "#9c179e"
          ],
          [
           0.4444444444444444,
           "#bd3786"
          ],
          [
           0.5555555555555556,
           "#d8576b"
          ],
          [
           0.6666666666666666,
           "#ed7953"
          ],
          [
           0.7777777777777778,
           "#fb9f3a"
          ],
          [
           0.8888888888888888,
           "#fdca26"
          ],
          [
           1,
           "#f0f921"
          ]
         ]
        },
        "geo": {
         "center": {},
         "domain": {
          "x": [
           0,
           1
          ],
          "y": [
           0,
           1
          ]
         },
         "scope": "usa"
        },
        "legend": {
         "tracegroupgap": 0
        },
        "margin": {
         "t": 60
        },
        "template": {
         "data": {
          "bar": [
           {
            "error_x": {
             "color": "#2a3f5f"
            },
            "error_y": {
             "color": "#2a3f5f"
            },
            "marker": {
             "line": {
              "color": "#E5ECF6",
              "width": 0.5
             },
             "pattern": {
              "fillmode": "overlay",
              "size": 10,
              "solidity": 0.2
             }
            },
            "type": "bar"
           }
          ],
          "barpolar": [
           {
            "marker": {
             "line": {
              "color": "#E5ECF6",
              "width": 0.5
             },
             "pattern": {
              "fillmode": "overlay",
              "size": 10,
              "solidity": 0.2
             }
            },
            "type": "barpolar"
           }
          ],
          "carpet": [
           {
            "aaxis": {
             "endlinecolor": "#2a3f5f",
             "gridcolor": "white",
             "linecolor": "white",
             "minorgridcolor": "white",
             "startlinecolor": "#2a3f5f"
            },
            "baxis": {
             "endlinecolor": "#2a3f5f",
             "gridcolor": "white",
             "linecolor": "white",
             "minorgridcolor": "white",
             "startlinecolor": "#2a3f5f"
            },
            "type": "carpet"
           }
          ],
          "choropleth": [
           {
            "colorbar": {
             "outlinewidth": 0,
             "ticks": ""
            },
            "type": "choropleth"
           }
          ],
          "contour": [
           {
            "colorbar": {
             "outlinewidth": 0,
             "ticks": ""
            },
            "colorscale": [
             [
              0,
              "#0d0887"
             ],
             [
              0.1111111111111111,
              "#46039f"
             ],
             [
              0.2222222222222222,
              "#7201a8"
             ],
             [
              0.3333333333333333,
              "#9c179e"
             ],
             [
              0.4444444444444444,
              "#bd3786"
             ],
             [
              0.5555555555555556,
              "#d8576b"
             ],
             [
              0.6666666666666666,
              "#ed7953"
             ],
             [
              0.7777777777777778,
              "#fb9f3a"
             ],
             [
              0.8888888888888888,
              "#fdca26"
             ],
             [
              1,
              "#f0f921"
             ]
            ],
            "type": "contour"
           }
          ],
          "contourcarpet": [
           {
            "colorbar": {
             "outlinewidth": 0,
             "ticks": ""
            },
            "type": "contourcarpet"
           }
          ],
          "heatmap": [
           {
            "colorbar": {
             "outlinewidth": 0,
             "ticks": ""
            },
            "colorscale": [
             [
              0,
              "#0d0887"
             ],
             [
              0.1111111111111111,
              "#46039f"
             ],
             [
              0.2222222222222222,
              "#7201a8"
             ],
             [
              0.3333333333333333,
              "#9c179e"
             ],
             [
              0.4444444444444444,
              "#bd3786"
             ],
             [
              0.5555555555555556,
              "#d8576b"
             ],
             [
              0.6666666666666666,
              "#ed7953"
             ],
             [
              0.7777777777777778,
              "#fb9f3a"
             ],
             [
              0.8888888888888888,
              "#fdca26"
             ],
             [
              1,
              "#f0f921"
             ]
            ],
            "type": "heatmap"
           }
          ],
          "heatmapgl": [
           {
            "colorbar": {
             "outlinewidth": 0,
             "ticks": ""
            },
            "colorscale": [
             [
              0,
              "#0d0887"
             ],
             [
              0.1111111111111111,
              "#46039f"
             ],
             [
              0.2222222222222222,
              "#7201a8"
             ],
             [
              0.3333333333333333,
              "#9c179e"
             ],
             [
              0.4444444444444444,
              "#bd3786"
             ],
             [
              0.5555555555555556,
              "#d8576b"
             ],
             [
              0.6666666666666666,
              "#ed7953"
             ],
             [
              0.7777777777777778,
              "#fb9f3a"
             ],
             [
              0.8888888888888888,
              "#fdca26"
             ],
             [
              1,
              "#f0f921"
             ]
            ],
            "type": "heatmapgl"
           }
          ],
          "histogram": [
           {
            "marker": {
             "pattern": {
              "fillmode": "overlay",
              "size": 10,
              "solidity": 0.2
             }
            },
            "type": "histogram"
           }
          ],
          "histogram2d": [
           {
            "colorbar": {
             "outlinewidth": 0,
             "ticks": ""
            },
            "colorscale": [
             [
              0,
              "#0d0887"
             ],
             [
              0.1111111111111111,
              "#46039f"
             ],
             [
              0.2222222222222222,
              "#7201a8"
             ],
             [
              0.3333333333333333,
              "#9c179e"
             ],
             [
              0.4444444444444444,
              "#bd3786"
             ],
             [
              0.5555555555555556,
              "#d8576b"
             ],
             [
              0.6666666666666666,
              "#ed7953"
             ],
             [
              0.7777777777777778,
              "#fb9f3a"
             ],
             [
              0.8888888888888888,
              "#fdca26"
             ],
             [
              1,
              "#f0f921"
             ]
            ],
            "type": "histogram2d"
           }
          ],
          "histogram2dcontour": [
           {
            "colorbar": {
             "outlinewidth": 0,
             "ticks": ""
            },
            "colorscale": [
             [
              0,
              "#0d0887"
             ],
             [
              0.1111111111111111,
              "#46039f"
             ],
             [
              0.2222222222222222,
              "#7201a8"
             ],
             [
              0.3333333333333333,
              "#9c179e"
             ],
             [
              0.4444444444444444,
              "#bd3786"
             ],
             [
              0.5555555555555556,
              "#d8576b"
             ],
             [
              0.6666666666666666,
              "#ed7953"
             ],
             [
              0.7777777777777778,
              "#fb9f3a"
             ],
             [
              0.8888888888888888,
              "#fdca26"
             ],
             [
              1,
              "#f0f921"
             ]
            ],
            "type": "histogram2dcontour"
           }
          ],
          "mesh3d": [
           {
            "colorbar": {
             "outlinewidth": 0,
             "ticks": ""
            },
            "type": "mesh3d"
           }
          ],
          "parcoords": [
           {
            "line": {
             "colorbar": {
              "outlinewidth": 0,
              "ticks": ""
             }
            },
            "type": "parcoords"
           }
          ],
          "pie": [
           {
            "automargin": true,
            "type": "pie"
           }
          ],
          "scatter": [
           {
            "fillpattern": {
             "fillmode": "overlay",
             "size": 10,
             "solidity": 0.2
            },
            "type": "scatter"
           }
          ],
          "scatter3d": [
           {
            "line": {
             "colorbar": {
              "outlinewidth": 0,
              "ticks": ""
             }
            },
            "marker": {
             "colorbar": {
              "outlinewidth": 0,
              "ticks": ""
             }
            },
            "type": "scatter3d"
           }
          ],
          "scattercarpet": [
           {
            "marker": {
             "colorbar": {
              "outlinewidth": 0,
              "ticks": ""
             }
            },
            "type": "scattercarpet"
           }
          ],
          "scattergeo": [
           {
            "marker": {
             "colorbar": {
              "outlinewidth": 0,
              "ticks": ""
             }
            },
            "type": "scattergeo"
           }
          ],
          "scattergl": [
           {
            "marker": {
             "colorbar": {
              "outlinewidth": 0,
              "ticks": ""
             }
            },
            "type": "scattergl"
           }
          ],
          "scattermapbox": [
           {
            "marker": {
             "colorbar": {
              "outlinewidth": 0,
              "ticks": ""
             }
            },
            "type": "scattermapbox"
           }
          ],
          "scatterpolar": [
           {
            "marker": {
             "colorbar": {
              "outlinewidth": 0,
              "ticks": ""
             }
            },
            "type": "scatterpolar"
           }
          ],
          "scatterpolargl": [
           {
            "marker": {
             "colorbar": {
              "outlinewidth": 0,
              "ticks": ""
             }
            },
            "type": "scatterpolargl"
           }
          ],
          "scatterternary": [
           {
            "marker": {
             "colorbar": {
              "outlinewidth": 0,
              "ticks": ""
             }
            },
            "type": "scatterternary"
           }
          ],
          "surface": [
           {
            "colorbar": {
             "outlinewidth": 0,
             "ticks": ""
            },
            "colorscale": [
             [
              0,
              "#0d0887"
             ],
             [
              0.1111111111111111,
              "#46039f"
             ],
             [
              0.2222222222222222,
              "#7201a8"
             ],
             [
              0.3333333333333333,
              "#9c179e"
             ],
             [
              0.4444444444444444,
              "#bd3786"
             ],
             [
              0.5555555555555556,
              "#d8576b"
             ],
             [
              0.6666666666666666,
              "#ed7953"
             ],
             [
              0.7777777777777778,
              "#fb9f3a"
             ],
             [
              0.8888888888888888,
              "#fdca26"
             ],
             [
              1,
              "#f0f921"
             ]
            ],
            "type": "surface"
           }
          ],
          "table": [
           {
            "cells": {
             "fill": {
              "color": "#EBF0F8"
             },
             "line": {
              "color": "white"
             }
            },
            "header": {
             "fill": {
              "color": "#C8D4E3"
             },
             "line": {
              "color": "white"
             }
            },
            "type": "table"
           }
          ]
         },
         "layout": {
          "annotationdefaults": {
           "arrowcolor": "#2a3f5f",
           "arrowhead": 0,
           "arrowwidth": 1
          },
          "autotypenumbers": "strict",
          "coloraxis": {
           "colorbar": {
            "outlinewidth": 0,
            "ticks": ""
           }
          },
          "colorscale": {
           "diverging": [
            [
             0,
             "#8e0152"
            ],
            [
             0.1,
             "#c51b7d"
            ],
            [
             0.2,
             "#de77ae"
            ],
            [
             0.3,
             "#f1b6da"
            ],
            [
             0.4,
             "#fde0ef"
            ],
            [
             0.5,
             "#f7f7f7"
            ],
            [
             0.6,
             "#e6f5d0"
            ],
            [
             0.7,
             "#b8e186"
            ],
            [
             0.8,
             "#7fbc41"
            ],
            [
             0.9,
             "#4d9221"
            ],
            [
             1,
             "#276419"
            ]
           ],
           "sequential": [
            [
             0,
             "#0d0887"
            ],
            [
             0.1111111111111111,
             "#46039f"
            ],
            [
             0.2222222222222222,
             "#7201a8"
            ],
            [
             0.3333333333333333,
             "#9c179e"
            ],
            [
             0.4444444444444444,
             "#bd3786"
            ],
            [
             0.5555555555555556,
             "#d8576b"
            ],
            [
             0.6666666666666666,
             "#ed7953"
            ],
            [
             0.7777777777777778,
             "#fb9f3a"
            ],
            [
             0.8888888888888888,
             "#fdca26"
            ],
            [
             1,
             "#f0f921"
            ]
           ],
           "sequentialminus": [
            [
             0,
             "#0d0887"
            ],
            [
             0.1111111111111111,
             "#46039f"
            ],
            [
             0.2222222222222222,
             "#7201a8"
            ],
            [
             0.3333333333333333,
             "#9c179e"
            ],
            [
             0.4444444444444444,
             "#bd3786"
            ],
            [
             0.5555555555555556,
             "#d8576b"
            ],
            [
             0.6666666666666666,
             "#ed7953"
            ],
            [
             0.7777777777777778,
             "#fb9f3a"
            ],
            [
             0.8888888888888888,
             "#fdca26"
            ],
            [
             1,
             "#f0f921"
            ]
           ]
          },
          "colorway": [
           "#636efa",
           "#EF553B",
           "#00cc96",
           "#ab63fa",
           "#FFA15A",
           "#19d3f3",
           "#FF6692",
           "#B6E880",
           "#FF97FF",
           "#FECB52"
          ],
          "font": {
           "color": "#2a3f5f"
          },
          "geo": {
           "bgcolor": "white",
           "lakecolor": "white",
           "landcolor": "#E5ECF6",
           "showlakes": true,
           "showland": true,
           "subunitcolor": "white"
          },
          "hoverlabel": {
           "align": "left"
          },
          "hovermode": "closest",
          "mapbox": {
           "style": "light"
          },
          "paper_bgcolor": "white",
          "plot_bgcolor": "#E5ECF6",
          "polar": {
           "angularaxis": {
            "gridcolor": "white",
            "linecolor": "white",
            "ticks": ""
           },
           "bgcolor": "#E5ECF6",
           "radialaxis": {
            "gridcolor": "white",
            "linecolor": "white",
            "ticks": ""
           }
          },
          "scene": {
           "xaxis": {
            "backgroundcolor": "#E5ECF6",
            "gridcolor": "white",
            "gridwidth": 2,
            "linecolor": "white",
            "showbackground": true,
            "ticks": "",
            "zerolinecolor": "white"
           },
           "yaxis": {
            "backgroundcolor": "#E5ECF6",
            "gridcolor": "white",
            "gridwidth": 2,
            "linecolor": "white",
            "showbackground": true,
            "ticks": "",
            "zerolinecolor": "white"
           },
           "zaxis": {
            "backgroundcolor": "#E5ECF6",
            "gridcolor": "white",
            "gridwidth": 2,
            "linecolor": "white",
            "showbackground": true,
            "ticks": "",
            "zerolinecolor": "white"
           }
          },
          "shapedefaults": {
           "line": {
            "color": "#2a3f5f"
           }
          },
          "ternary": {
           "aaxis": {
            "gridcolor": "white",
            "linecolor": "white",
            "ticks": ""
           },
           "baxis": {
            "gridcolor": "white",
            "linecolor": "white",
            "ticks": ""
           },
           "bgcolor": "#E5ECF6",
           "caxis": {
            "gridcolor": "white",
            "linecolor": "white",
            "ticks": ""
           }
          },
          "title": {
           "x": 0.05
          },
          "xaxis": {
           "automargin": true,
           "gridcolor": "white",
           "linecolor": "white",
           "ticks": "",
           "title": {
            "standoff": 15
           },
           "zerolinecolor": "white",
           "zerolinewidth": 2
          },
          "yaxis": {
           "automargin": true,
           "gridcolor": "white",
           "linecolor": "white",
           "ticks": "",
           "title": {
            "standoff": 15
           },
           "zerolinecolor": "white",
           "zerolinewidth": 2
          }
         }
        }
       }
      }
     },
     "metadata": {},
     "output_type": "display_data"
    }
   ],
   "source": [
    "px.choropleth(states, locations='state', locationmode=\"USA-states\", color='adoptable_dogs',\n",
    "                           scope=\"usa\"\n",
    "                          )"
   ]
  },
  {
   "cell_type": "markdown",
   "id": "2aefdd70",
   "metadata": {},
   "source": [
    "Every state, besides Montana and Hawaii has adoptable dogs! New York and Pennsylvania seem to have the most adoptable dogs with over 1000 each, whereas Alaska only has 5. It might be important to check for data integrity at the API level, because it seems unlikely that states have NO dogs for adoption."
   ]
  }
 ],
 "metadata": {
  "kernelspec": {
   "display_name": "Python 3 (ipykernel)",
   "language": "python",
   "name": "python3"
  },
  "language_info": {
   "codemirror_mode": {
    "name": "ipython",
    "version": 3
   },
   "file_extension": ".py",
   "mimetype": "text/x-python",
   "name": "python",
   "nbconvert_exporter": "python",
   "pygments_lexer": "ipython3",
   "version": "3.8.11"
  }
 },
 "nbformat": 4,
 "nbformat_minor": 5
}
