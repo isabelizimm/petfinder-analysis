{
 "cells": [
  {
   "cell_type": "markdown",
   "id": "082596ae-bcdd-4498-8c08-b130ee5e1510",
   "metadata": {},
   "source": [
    "## What does the most \"normal\" rescue dog look like?\n",
    "\n",
    "During the beginning of COVID-19, many locked-down milennials and gen-z-ers found their homes getting 4 feet (erm, paws) bigger. While the homes welcomed all shapes and sizes of new furry friends, what does the most normal rescue dog look like?\n",
    "\n",
    "We'll start by importing a scraped list of dogs on the popular [petfinder.com](petfinder.com), a top site for animals in need of a home. "
   ]
  },
  {
   "cell_type": "code",
   "execution_count": 1,
   "id": "7fa27d35-5787-4acf-9b08-b836af0b54e8",
   "metadata": {},
   "outputs": [],
   "source": [
    "import pandas as pd\n",
    "import seaborn as sns\n",
    "import re\n",
    "from string import punctuation\n",
    "import markovify"
   ]
  },
  {
   "cell_type": "code",
   "execution_count": 2,
   "id": "0a661a34-811f-44b7-8588-ae9c531d9e30",
   "metadata": {},
   "outputs": [],
   "source": [
    "url = \"https://raw.githubusercontent.com/rfordatascience/tidytuesday/master/data/2019/2019-12-17/dog_descriptions.csv\"\n",
    "data = pd.read_csv(url)"
   ]
  },
  {
   "cell_type": "markdown",
   "id": "abf18dd8-baf7-4580-8708-0b3a9b6aec47",
   "metadata": {},
   "source": [
    "Let's check out the data first."
   ]
  },
  {
   "cell_type": "code",
   "execution_count": 3,
   "id": "8138ac9b-5830-4130-93a9-1322c143305e",
   "metadata": {},
   "outputs": [
    {
     "data": {
      "text/plain": [
       "Index(['id', 'org_id', 'url', 'species', 'breed_primary', 'breed_secondary',\n",
       "       'breed_mixed', 'breed_unknown', 'color_primary', 'color_secondary',\n",
       "       'color_tertiary', 'age', 'sex', 'size', 'coat', 'fixed',\n",
       "       'house_trained', 'declawed', 'special_needs', 'shots_current',\n",
       "       'env_children', 'env_dogs', 'env_cats', 'name', 'tags', 'photo',\n",
       "       'status', 'posted', 'contact_city', 'contact_state', 'contact_zip',\n",
       "       'contact_country', 'stateQ', 'accessed', 'type', 'description'],\n",
       "      dtype='object')"
      ]
     },
     "execution_count": 3,
     "metadata": {},
     "output_type": "execute_result"
    }
   ],
   "source": [
    "data.columns"
   ]
  },
  {
   "cell_type": "markdown",
   "id": "a5694ec0-7809-4d7d-83d1-f574eb3aa6ad",
   "metadata": {},
   "source": [
    "From this list, let's look at `breed_primary`, `age`, `sex`, `size`, and `description`. "
   ]
  },
  {
   "cell_type": "code",
   "execution_count": 4,
   "id": "9f756d01-a374-42c7-bc0a-ee2df27964a7",
   "metadata": {},
   "outputs": [],
   "source": [
    "breed_desc = data[[\"breed_primary\",\"age\", \"sex\", \"size\", \"description\"]].dropna()"
   ]
  },
  {
   "cell_type": "code",
   "execution_count": 5,
   "id": "51e91406-1a2d-4fe2-91e2-3f0cea226af6",
   "metadata": {},
   "outputs": [
    {
     "data": {
      "text/plain": [
       "<AxesSubplot:>"
      ]
     },
     "execution_count": 5,
     "metadata": {},
     "output_type": "execute_result"
    },
    {
     "data": {
      "image/png": "[encoded data removed]",
      "text/plain": [
       "<Figure size 432x288 with 1 Axes>"
      ]
     },
     "metadata": {
      "needs_background": "light"
     },
     "output_type": "display_data"
    }
   ],
   "source": [
    "breed_desc[\"breed_primary\"].value_counts().head(10).plot(kind='barh')"
   ]
  },
  {
   "cell_type": "code",
   "execution_count": 6,
   "id": "acd940c5-76c8-41d3-b67c-f5ad3110d0ba",
   "metadata": {},
   "outputs": [
    {
     "data": {
      "text/plain": [
       "<AxesSubplot:>"
      ]
     },
     "execution_count": 6,
     "metadata": {},
     "output_type": "execute_result"
    },
    {
     "data": {
      "image/png": "[encoded data removed]",
      "text/plain": [
       "<Figure size 432x288 with 1 Axes>"
      ]
     },
     "metadata": {
      "needs_background": "light"
     },
     "output_type": "display_data"
    }
   ],
   "source": [
    "breed_desc[\"age\"].value_counts().plot(kind='barh')"
   ]
  },
  {
   "cell_type": "code",
   "execution_count": 7,
   "id": "7a40452a-b4ae-412e-a70f-acd4c19cc7f3",
   "metadata": {},
   "outputs": [
    {
     "data": {
      "text/plain": [
       "<AxesSubplot:>"
      ]
     },
     "execution_count": 7,
     "metadata": {},
     "output_type": "execute_result"
    },
    {
     "data": {
      "image/png": "[encoded data removed]",
      "text/plain": [
       "<Figure size 432x288 with 1 Axes>"
      ]
     },
     "metadata": {
      "needs_background": "light"
     },
     "output_type": "display_data"
    }
   ],
   "source": [
    "breed_desc[\"sex\"].value_counts().plot(kind='barh')"
   ]
  },
  {
   "cell_type": "code",
   "execution_count": 8,
   "id": "826d618c-adea-4ffc-a4d2-6549eea900ab",
   "metadata": {},
   "outputs": [
    {
     "data": {
      "text/plain": [
       "<AxesSubplot:>"
      ]
     },
     "execution_count": 8,
     "metadata": {},
     "output_type": "execute_result"
    },
    {
     "data": {
      "image/png": "[encoded data removed]",
      "text/plain": [
       "<Figure size 432x288 with 1 Axes>"
      ]
     },
     "metadata": {
      "needs_background": "light"
     },
     "output_type": "display_data"
    }
   ],
   "source": [
    "breed_desc[\"size\"].value_counts().plot(kind='barh')"
   ]
  },
  {
   "cell_type": "markdown",
   "id": "ccee6005-3662-4482-826d-71af57fa519d",
   "metadata": {},
   "source": [
    "From just a few lines of code, it looks like our most average dog is a medium, adult aged, male labrador retriever. This gives us good quantitative data of what the dog looks like, but the heart and soul of a rescue dog's personality lives in the description. Let's first check out what kind of keywords are most used to explain the dogs."
   ]
  },
  {
   "cell_type": "markdown",
   "id": "2033d9fc-bb7a-4265-aa71-2ed1d83374e0",
   "metadata": {},
   "source": [
    "## Catfishing dogs\n",
    "### (or, Markov chains and text wrangling for computer-generated descriptions)\n",
    "\n",
    "We can use a technique called [Markov chains](https://setosa.io/ev/markov-chains/) and the library [markovify](https://pypi.org/project/markovify/) to use natural language processing techniques for generating fake dog descriptions."
   ]
  },
  {
   "cell_type": "code",
   "execution_count": 9,
   "id": "983406d5-e294-4d68-b2d6-ee7b24edcc56",
   "metadata": {},
   "outputs": [],
   "source": [
    "def clean_desc(text):\n",
    "    text = text.lower()  # Lowercase text\n",
    "    text = re.sub(f\"[{re.escape(punctuation)}]\", \"\", text)  # Remove punctuation\n",
    "    text = \" \".join(text.split())  # Remove extra spaces, tabs, and new lines\n",
    "    return text"
   ]
  },
  {
   "cell_type": "code",
   "execution_count": 10,
   "id": "cd35a1af-2c59-4812-a7ef-5352ab843d08",
   "metadata": {},
   "outputs": [
    {
     "data": {
      "text/plain": [
       "0        harley is not sure how he wound up at shelter ...\n",
       "1        6 year old biggie has lost his home and really...\n",
       "2        approx 2 years old did i catch your eye i dont...\n",
       "4        theo is a friendly dachshund mix who gets alon...\n",
       "5        oliver was born around midjune and came to us ...\n",
       "                               ...                        \n",
       "58166    charlie was adopted from us 5 years ago but re...\n",
       "58167    samson is a dog that will need someone to show...\n",
       "58172    buddy was an owner surrender by an older gentl...\n",
       "58175    due to the small size of our volunteer base we...\n",
       "58177    due to the small size of our volunteer base we...\n",
       "Name: clean_text, Length: 49475, dtype: object"
      ]
     },
     "execution_count": 10,
     "metadata": {},
     "output_type": "execute_result"
    }
   ],
   "source": [
    "breed_desc[\"clean_text\"] = breed_desc[\"description\"].map(clean_desc)\n",
    "breed_desc[\"clean_text\"]"
   ]
  },
  {
   "cell_type": "code",
   "execution_count": null,
   "id": "8b7f0b66-0d84-4074-8ae4-4932369162d6",
   "metadata": {},
   "outputs": [],
   "source": [
    "text_model = markovify.Text(breed_desc[\"clean_text\"], state_size=4)\n",
    "\n",
    "for i in range(3):\n",
    "    print(text_model.make_short_sentence(280) + \"\\n\")"
   ]
  },
  {
   "cell_type": "markdown",
   "id": "da51af19-a6bc-4dfa-94ed-f0ea3eb1def7",
   "metadata": {},
   "source": [
    "The beautiful thing about data science is that you really have 3 possible outcomes with your EDA.\n",
    "\n",
    "1. You learn your data is bad, and you can't do what you thought you were going to do.\n",
    "2. You learn about your data, but it's really just reiterating the things you already know.\n",
    "3. You learn new and unexpected things about your data.\n",
    "\n",
    "And they don't happen equally. At first glance, our small markov model sees something unexpected-- the descriptions might be used more often as a contact card than a dog's profile for personality traits. \n",
    "\n",
    "Why might it seem this way? Well, we don't know for sure. This might just be the most OFTEN used. #to do, add more"
   ]
  },
  {
   "cell_type": "code",
   "execution_count": null,
   "id": "9606fe34-5ae6-4b8e-a98d-68e1f1232394",
   "metadata": {},
   "outputs": [],
   "source": []
  }
 ],
 "metadata": {
  "kernelspec": {
   "display_name": "Python 3 (ipykernel)",
   "language": "python",
   "name": "python3"
  },
  "language_info": {
   "codemirror_mode": {
    "name": "ipython",
    "version": 3
   },
   "file_extension": ".py",
   "mimetype": "text/x-python",
   "name": "python",
   "nbconvert_exporter": "python",
   "pygments_lexer": "ipython3",
   "version": "3.9.7"
  }
 },
 "nbformat": 4,
 "nbformat_minor": 5
}
